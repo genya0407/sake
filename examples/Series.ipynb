{
 "cells": [
  {
   "cell_type": "code",
   "execution_count": 1,
   "metadata": {
    "collapsed": false
   },
   "outputs": [
    {
     "data": {
      "text/plain": [
       "true"
      ]
     },
     "execution_count": 1,
     "metadata": {},
     "output_type": "execute_result"
    }
   ],
   "source": [
    "require 'sake'"
   ]
  },
  {
   "cell_type": "markdown",
   "metadata": {},
   "source": [
    "# Basic"
   ]
  },
  {
   "cell_type": "code",
   "execution_count": 2,
   "metadata": {
    "collapsed": false
   },
   "outputs": [
    {
     "data": {
      "text/html": [
       "<table>\n",
       "  <tr>\n",
       "    <th colspan=\"2\">Sake::Series</th>\n",
       "  </tr>\n",
       "\n",
       "  \n",
       "    <tr>\n",
       "      <td>0</td>\n",
       "      <td>0.25</td>\n",
       "    </tr>\n",
       "  \n",
       "    <tr>\n",
       "      <td>1</td>\n",
       "      <td>0.5</td>\n",
       "    </tr>\n",
       "  \n",
       "    <tr>\n",
       "      <td>2</td>\n",
       "      <td>0.75</td>\n",
       "    </tr>\n",
       "  \n",
       "    <tr>\n",
       "      <td>3</td>\n",
       "      <td>1.0</td>\n",
       "    </tr>\n",
       "  \n",
       "</table>\n"
      ],
      "text/plain": [
       "#<Sake::Series:0x007ffc34010e68 @values=Numo::DFloat#shape=[4]\n",
       "[0.25, 0.5, 0.75, 1], @index=#<Sake::Index:0x007ffc34010b20 @array=Numo::Int64#shape=[4]\n",
       "[0, 1, 2, 3]>>"
      ]
     },
     "execution_count": 2,
     "metadata": {},
     "output_type": "execute_result"
    }
   ],
   "source": [
    "data = Sake::Series.new([0.25, 0.5, 0.75, 1.0])"
   ]
  },
  {
   "cell_type": "code",
   "execution_count": 3,
   "metadata": {
    "collapsed": false
   },
   "outputs": [
    {
     "data": {
      "text/latex": [
       "$$\\left(\\begin{array}{cccc} 0.25 & 0.5 & 0.75 & 1.0 \\end{array}\\right)$$"
      ],
      "text/plain": [
       "Numo::DFloat#shape=[4]\n",
       "[0.25, 0.5, 0.75, 1]"
      ]
     },
     "execution_count": 3,
     "metadata": {},
     "output_type": "execute_result"
    }
   ],
   "source": [
    "data.values"
   ]
  },
  {
   "cell_type": "code",
   "execution_count": 4,
   "metadata": {
    "collapsed": false
   },
   "outputs": [
    {
     "data": {
      "text/plain": [
       "#<Sake::Index:0x007ffc34010b20 @array=Numo::Int64#shape=[4]\n",
       "[0, 1, 2, 3]>"
      ]
     },
     "execution_count": 4,
     "metadata": {},
     "output_type": "execute_result"
    }
   ],
   "source": [
    "data.index"
   ]
  },
  {
   "cell_type": "code",
   "execution_count": 5,
   "metadata": {
    "collapsed": false
   },
   "outputs": [
    {
     "data": {
      "text/plain": [
       "0.5"
      ]
     },
     "execution_count": 5,
     "metadata": {},
     "output_type": "execute_result"
    }
   ],
   "source": [
    "data[1]"
   ]
  },
  {
   "cell_type": "code",
   "execution_count": 6,
   "metadata": {
    "collapsed": false
   },
   "outputs": [
    {
     "data": {
      "text/html": [
       "<table>\n",
       "  <tr>\n",
       "    <th colspan=\"2\">Sake::Series</th>\n",
       "  </tr>\n",
       "\n",
       "  \n",
       "    <tr>\n",
       "      <td>1</td>\n",
       "      <td>0.5</td>\n",
       "    </tr>\n",
       "  \n",
       "    <tr>\n",
       "      <td>2</td>\n",
       "      <td>0.75</td>\n",
       "    </tr>\n",
       "  \n",
       "</table>\n"
      ],
      "text/plain": [
       "#<Sake::Series:0x007ffc310679c8 @values=Numo::DFloat(view)#shape=[2]\n",
       "[0.5, 0.75], @index=#<Sake::Index:0x007ffc31067a18 @array=Numo::Int64(view)#shape=[2]\n",
       "[1, 2]>>"
      ]
     },
     "execution_count": 6,
     "metadata": {},
     "output_type": "execute_result"
    }
   ],
   "source": [
    "data[*(1...3).to_a]"
   ]
  },
  {
   "cell_type": "code",
   "execution_count": 7,
   "metadata": {
    "collapsed": false
   },
   "outputs": [
    {
     "data": {
      "text/html": [
       "<table>\n",
       "  <tr>\n",
       "    <th colspan=\"2\">Sake::Series</th>\n",
       "  </tr>\n",
       "\n",
       "  \n",
       "    <tr>\n",
       "      <td>a</td>\n",
       "      <td>0.25</td>\n",
       "    </tr>\n",
       "  \n",
       "    <tr>\n",
       "      <td>b</td>\n",
       "      <td>0.5</td>\n",
       "    </tr>\n",
       "  \n",
       "    <tr>\n",
       "      <td>c</td>\n",
       "      <td>0.75</td>\n",
       "    </tr>\n",
       "  \n",
       "    <tr>\n",
       "      <td>d</td>\n",
       "      <td>1.0</td>\n",
       "    </tr>\n",
       "  \n",
       "</table>\n"
      ],
      "text/plain": [
       "#<Sake::Series:0x007ffc3308a0c0 @values=Numo::DFloat#shape=[4]\n",
       "[0.25, 0.5, 0.75, 1], @index=#<Sake::Index:0x007ffc33089df0 @array=Numo::RObject#shape=[4]\n",
       "[:a, :b, :c, :d]>>"
      ]
     },
     "execution_count": 7,
     "metadata": {},
     "output_type": "execute_result"
    }
   ],
   "source": [
    "data = Sake::Series.new(\n",
    "  [0.25, 0.5, 0.75, 1.0],\n",
    "  index: [:a, :b, :c, :d]\n",
    ")"
   ]
  },
  {
   "cell_type": "code",
   "execution_count": 8,
   "metadata": {
    "collapsed": false
   },
   "outputs": [
    {
     "data": {
      "text/plain": [
       "0.5"
      ]
     },
     "execution_count": 8,
     "metadata": {},
     "output_type": "execute_result"
    }
   ],
   "source": [
    "data[:b]"
   ]
  },
  {
   "cell_type": "code",
   "execution_count": 9,
   "metadata": {
    "collapsed": false
   },
   "outputs": [
    {
     "data": {
      "text/html": [
       "<table>\n",
       "  <tr>\n",
       "    <th colspan=\"2\">Sake::Series</th>\n",
       "  </tr>\n",
       "\n",
       "  \n",
       "    <tr>\n",
       "      <td>California</td>\n",
       "      <td>38332521</td>\n",
       "    </tr>\n",
       "  \n",
       "    <tr>\n",
       "      <td>Texas</td>\n",
       "      <td>26448193</td>\n",
       "    </tr>\n",
       "  \n",
       "    <tr>\n",
       "      <td>NewYork</td>\n",
       "      <td>19651127</td>\n",
       "    </tr>\n",
       "  \n",
       "    <tr>\n",
       "      <td>Florida</td>\n",
       "      <td>19552860</td>\n",
       "    </tr>\n",
       "  \n",
       "    <tr>\n",
       "      <td>Illinois</td>\n",
       "      <td>12882135</td>\n",
       "    </tr>\n",
       "  \n",
       "</table>\n"
      ],
      "text/plain": [
       "#<Sake::Series:0x007ffc31086760 @values=Numo::Int64#shape=[5]\n",
       "[38332521, 26448193, 19651127, 19552860, 12882135], @index=#<Sake::Index:0x007ffc310864e0 @array=Numo::RObject#shape=[5]\n",
       "[:California, :Texas, :NewYork, :Florida, :Illinois]>>"
      ]
     },
     "execution_count": 9,
     "metadata": {},
     "output_type": "execute_result"
    }
   ],
   "source": [
    "population_dict = {\n",
    "  California: 38332521,\n",
    "  Texas: 26448193,\n",
    "  NewYork: 19651127,\n",
    "  Florida: 19552860,\n",
    "  Illinois: 12882135\n",
    "}\n",
    "population = Sake::Series.new(population_dict)"
   ]
  },
  {
   "cell_type": "code",
   "execution_count": 10,
   "metadata": {
    "collapsed": false
   },
   "outputs": [
    {
     "data": {
      "text/plain": [
       "38332521"
      ]
     },
     "execution_count": 10,
     "metadata": {},
     "output_type": "execute_result"
    }
   ],
   "source": [
    "population[:California]"
   ]
  },
  {
   "cell_type": "markdown",
   "metadata": {},
   "source": [
    "# Advanced"
   ]
  },
  {
   "cell_type": "markdown",
   "metadata": {},
   "source": [
    "## DType"
   ]
  },
  {
   "cell_type": "markdown",
   "metadata": {},
   "source": [
    "Internal data of `Sake::Series` is Numo::NArray:"
   ]
  },
  {
   "cell_type": "code",
   "execution_count": 11,
   "metadata": {
    "collapsed": false
   },
   "outputs": [
    {
     "data": {
      "text/plain": [
       "\"Numo::Int64#shape=[4]\\n[1, 2, 3, 4]\""
      ]
     },
     "execution_count": 11,
     "metadata": {},
     "output_type": "execute_result"
    }
   ],
   "source": [
    "data = Sake::Series.new([1,2,3,4])\n",
    "data.values.inspect"
   ]
  },
  {
   "cell_type": "markdown",
   "metadata": {},
   "source": [
    "`NArray`'s `dtype` is inferred by argument of `Sake::Series#new`."
   ]
  },
  {
   "cell_type": "code",
   "execution_count": 12,
   "metadata": {
    "collapsed": false
   },
   "outputs": [
    {
     "data": {
      "text/plain": [
       "\"Numo::DFloat#shape=[3]\\n[1.1, 3.3, 5.5]\""
      ]
     },
     "execution_count": 12,
     "metadata": {},
     "output_type": "execute_result"
    }
   ],
   "source": [
    "data = Sake::Series.new([1.1, 3.3, 5.5])\n",
    "data.values.inspect"
   ]
  },
  {
   "cell_type": "code",
   "execution_count": 13,
   "metadata": {
    "collapsed": false
   },
   "outputs": [
    {
     "data": {
      "text/plain": [
       "\"Numo::RObject#shape=[3]\\n[:a, :b, :c]\""
      ]
     },
     "execution_count": 13,
     "metadata": {},
     "output_type": "execute_result"
    }
   ],
   "source": [
    "data = Sake::Series.new([:a, :b, :c])\n",
    "data.values.inspect"
   ]
  },
  {
   "cell_type": "markdown",
   "metadata": {},
   "source": [
    "However, you can specify dtype:"
   ]
  },
  {
   "cell_type": "code",
   "execution_count": 14,
   "metadata": {
    "collapsed": false
   },
   "outputs": [
    {
     "data": {
      "text/plain": [
       "\"Numo::DFloat#shape=[4]\\n[1, 2, 3, 4]\""
      ]
     },
     "execution_count": 14,
     "metadata": {},
     "output_type": "execute_result"
    }
   ],
   "source": [
    "data = Sake::Series.new([1,2,3,4], dtype: :DFloat)\n",
    "data.values.inspect"
   ]
  },
  {
   "cell_type": "code",
   "execution_count": 15,
   "metadata": {
    "collapsed": false
   },
   "outputs": [
    {
     "data": {
      "text/plain": [
       "\"Numo::DComplex#shape=[4]\\n[1+0i, 2+0i, 3+0i, 4+0i]\""
      ]
     },
     "execution_count": 15,
     "metadata": {},
     "output_type": "execute_result"
    }
   ],
   "source": [
    "data = Sake::Series.new([1,2,3,4], dtype: :DComplex)\n",
    "data.values.inspect"
   ]
  },
  {
   "cell_type": "code",
   "execution_count": 16,
   "metadata": {
    "collapsed": false
   },
   "outputs": [
    {
     "data": {
      "text/plain": [
       "\"Numo::RObject#shape=[4]\\n[1, 2, 3, 4]\""
      ]
     },
     "execution_count": 16,
     "metadata": {},
     "output_type": "execute_result"
    }
   ],
   "source": [
    "data = Sake::Series.new([1,2,3,4], dtype: :RObject)\n",
    "data.values.inspect"
   ]
  },
  {
   "cell_type": "markdown",
   "metadata": {},
   "source": [
    "## Change data"
   ]
  },
  {
   "cell_type": "code",
   "execution_count": 17,
   "metadata": {
    "collapsed": false
   },
   "outputs": [
    {
     "data": {
      "text/html": [
       "<table>\n",
       "  <tr>\n",
       "    <th colspan=\"2\">Sake::Series</th>\n",
       "  </tr>\n",
       "\n",
       "  \n",
       "    <tr>\n",
       "      <td>a</td>\n",
       "      <td>1</td>\n",
       "    </tr>\n",
       "  \n",
       "    <tr>\n",
       "      <td>b</td>\n",
       "      <td>2</td>\n",
       "    </tr>\n",
       "  \n",
       "    <tr>\n",
       "      <td>c</td>\n",
       "      <td>3</td>\n",
       "    </tr>\n",
       "  \n",
       "    <tr>\n",
       "      <td>d</td>\n",
       "      <td>4</td>\n",
       "    </tr>\n",
       "  \n",
       "</table>\n"
      ],
      "text/plain": [
       "#<Sake::Series:0x007ffc310c7f08 @values=Numo::Int64#shape=[4]\n",
       "[1, 2, 3, 4], @index=#<Sake::Index:0x007ffc310c7cb0 @array=Numo::RObject#shape=[4]\n",
       "[:a, :b, :c, :d]>>"
      ]
     },
     "execution_count": 17,
     "metadata": {},
     "output_type": "execute_result"
    }
   ],
   "source": [
    "data = Sake::Series.new([1,2,3,4], index: [:a, :b, :c, :d])"
   ]
  },
  {
   "cell_type": "code",
   "execution_count": 18,
   "metadata": {
    "collapsed": false
   },
   "outputs": [
    {
     "data": {
      "text/html": [
       "<table>\n",
       "  <tr>\n",
       "    <th colspan=\"2\">Sake::Series</th>\n",
       "  </tr>\n",
       "\n",
       "  \n",
       "    <tr>\n",
       "      <td>a</td>\n",
       "      <td>1</td>\n",
       "    </tr>\n",
       "  \n",
       "    <tr>\n",
       "      <td>b</td>\n",
       "      <td>200</td>\n",
       "    </tr>\n",
       "  \n",
       "    <tr>\n",
       "      <td>c</td>\n",
       "      <td>3</td>\n",
       "    </tr>\n",
       "  \n",
       "    <tr>\n",
       "      <td>d</td>\n",
       "      <td>4</td>\n",
       "    </tr>\n",
       "  \n",
       "</table>\n"
      ],
      "text/plain": [
       "#<Sake::Series:0x007ffc310c7f08 @values=Numo::Int64#shape=[4]\n",
       "[1, 200, 3, 4], @index=#<Sake::Index:0x007ffc310c7cb0 @array=Numo::RObject#shape=[4]\n",
       "[:a, :b, :c, :d]>>"
      ]
     },
     "execution_count": 18,
     "metadata": {},
     "output_type": "execute_result"
    }
   ],
   "source": [
    "data[:b] = 200\n",
    "data"
   ]
  },
  {
   "cell_type": "code",
   "execution_count": 19,
   "metadata": {
    "collapsed": false
   },
   "outputs": [
    {
     "data": {
      "text/html": [
       "<table>\n",
       "  <tr>\n",
       "    <th colspan=\"2\">Sake::Series</th>\n",
       "  </tr>\n",
       "\n",
       "  \n",
       "    <tr>\n",
       "      <td>a</td>\n",
       "      <td>0</td>\n",
       "    </tr>\n",
       "  \n",
       "    <tr>\n",
       "      <td>b</td>\n",
       "      <td>200</td>\n",
       "    </tr>\n",
       "  \n",
       "    <tr>\n",
       "      <td>c</td>\n",
       "      <td>0</td>\n",
       "    </tr>\n",
       "  \n",
       "    <tr>\n",
       "      <td>d</td>\n",
       "      <td>0</td>\n",
       "    </tr>\n",
       "  \n",
       "</table>\n"
      ],
      "text/plain": [
       "#<Sake::Series:0x007ffc310c7f08 @values=Numo::Int64#shape=[4]\n",
       "[0, 200, 0, 0], @index=#<Sake::Index:0x007ffc310c7cb0 @array=Numo::RObject#shape=[4]\n",
       "[:a, :b, :c, :d]>>"
      ]
     },
     "execution_count": 19,
     "metadata": {},
     "output_type": "execute_result"
    }
   ],
   "source": [
    "data[data < 100] = 0\n",
    "data"
   ]
  }
 ],
 "metadata": {
  "kernelspec": {
   "display_name": "Ruby 2.3.2",
   "language": "ruby",
   "name": "ruby"
  },
  "language_info": {
   "file_extension": ".rb",
   "mimetype": "application/x-ruby",
   "name": "ruby",
   "version": "2.3.2"
  }
 },
 "nbformat": 4,
 "nbformat_minor": 0
}
